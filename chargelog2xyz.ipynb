{
 "cells": [
  {
   "cell_type": "code",
   "execution_count": 1,
   "metadata": {},
   "outputs": [
    {
     "name": "stdin",
     "output_type": "stream",
     "text": [
      "Enter charge log filename::  charge-conf-883.log\n"
     ]
    }
   ],
   "source": [
    "#This script is for extracting the optimized (final) 3D structure used in the charge calculation from a log type file to a xyz type file\n",
    "\n",
    "import csv\n",
    "import contextlib\n",
    "import sys \n",
    "from operator import itemgetter\n",
    "\n",
    "#filename is the directory name\n",
    "filename = input(\"Enter charge log filename:: \").strip()\n",
    "\n",
    "f = open(filename)\n",
    "\n",
    "reader = csv.reader(f)\n",
    "b = []\n",
    "c = []\n",
    "for i, x in enumerate(reader): \n",
    "    if x == [' Redundant internal coordinates found in file.  (old form).']:\n",
    "        i1 = i\n",
    "        b.append(i1)\n",
    "        \n",
    "\n",
    "    if x ==[' Recover connectivity data from disk.']:\n",
    "        i2 = i\n",
    "        c.append(i2)\n",
    "\n",
    "g = int(c[0]) - int(b[0])        \n",
    "e = open(filename)        \n",
    "\n",
    "read = csv.reader(e)\n",
    "\n",
    "for a, b in enumerate(read):\n",
    "    if a>(i1-2) and a<i1:\n",
    "        f = open('{}'.format(filename.replace('log','xyz')), 'a')\n",
    "        print((\"{}\".format(g-1)), file = f)\n",
    "        print((\"{}\".format((int(g)+1))), file = f)\n",
    "    if i1< a < i2:\n",
    "        atom = b[0]\n",
    "        x1 = float(b[2])\n",
    "        y1 = float(b[3])\n",
    "        z1 = float(b[4])\n",
    "      \n",
    "    #printed file will appear in current directory\n",
    "        f = open('{}'.format(filename.replace('log','xyz')), 'a')\n",
    "        print((\"{}{:>17.5f}{:>15.5f}{:>15.5f}\".format(atom.strip(),x1,y1,z1)), file = f)\n",
    "        f.close()\n",
    "\n"
   ]
  },
  {
   "cell_type": "code",
   "execution_count": null,
   "metadata": {},
   "outputs": [],
   "source": []
  }
 ],
 "metadata": {
  "kernelspec": {
   "display_name": "Python 3",
   "language": "python",
   "name": "python3"
  },
  "language_info": {
   "codemirror_mode": {
    "name": "ipython",
    "version": 3
   },
   "file_extension": ".py",
   "mimetype": "text/x-python",
   "name": "python",
   "nbconvert_exporter": "python",
   "pygments_lexer": "ipython3",
   "version": "3.8.5"
  }
 },
 "nbformat": 4,
 "nbformat_minor": 4
}
